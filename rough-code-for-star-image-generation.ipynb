{
 "cells": [
  {
   "cell_type": "code",
   "execution_count": 1,
   "metadata": {},
   "outputs": [],
   "source": [
    "from PIL import Image  \n",
    "import random"
   ]
  },
  {
   "cell_type": "markdown",
   "metadata": {},
   "source": [
    " width and height of picture to create"
   ]
  },
  {
   "cell_type": "code",
   "execution_count": 2,
   "metadata": {},
   "outputs": [],
   "source": [
    "width = 80\n",
    "height = 80"
   ]
  },
  {
   "cell_type": "markdown",
   "metadata": {},
   "source": [
    "RGB color codes to use later"
   ]
  },
  {
   "cell_type": "code",
   "execution_count": 4,
   "metadata": {},
   "outputs": [],
   "source": [
    "white = (255,255,255)\n",
    "purple = (114,88,148)\n",
    "dpurple = (70,54,92)\n",
    "dblue = (13,30,46)"
   ]
  },
  {
   "cell_type": "code",
   "execution_count": 5,
   "metadata": {},
   "outputs": [],
   "source": [
    "# pick \"number\" times random numbers from range(0,x*y)\n",
    "def getRandomStarLocations(number,x,y):\n",
    "    size = x*y\n",
    "    return random.sample(range(0, size), number)\n",
    "    "
   ]
  },
  {
   "cell_type": "code",
   "execution_count": 58,
   "metadata": {},
   "outputs": [],
   "source": [
    "starPos = sorted(getRandomStarLocations(35,width,height))"
   ]
  },
  {
   "cell_type": "markdown",
   "metadata": {},
   "source": [
    "created a list of star variations, more of 1 variation means that type of star will appear more"
   ]
  },
  {
   "cell_type": "code",
   "execution_count": 7,
   "metadata": {},
   "outputs": [],
   "source": [
    "starsVariation = [0,0,1,1,1,1,1,2,3,3,4,4,5]"
   ]
  },
  {
   "cell_type": "code",
   "execution_count": 8,
   "metadata": {},
   "outputs": [
    {
     "data": {
      "text/plain": [
       "4"
      ]
     },
     "execution_count": 8,
     "metadata": {},
     "output_type": "execute_result"
    }
   ],
   "source": [
    "random.choice(starsVariation)"
   ]
  },
  {
   "cell_type": "code",
   "execution_count": 9,
   "metadata": {},
   "outputs": [],
   "source": [
    "# in order to create bigger star, created a function that will reduce repetition when creating stars\n",
    "def paintSur(distance,i,j,color,img,xmax=width,ymax=height):\n",
    "    if(distance<0):\n",
    "        distance = -distance\n",
    "    mv = i+distance\n",
    "    if mv < xmax:\n",
    "        img.putpixel((mv,j), color)\n",
    "    mv = i-distance\n",
    "    if mv >= 0:\n",
    "        img.putpixel((mv,j), color)\n",
    "    mv = j+distance\n",
    "    if mv < ymax:\n",
    "        img.putpixel((i,mv), color)\n",
    "    mv = j-distance\n",
    "    if mv >= 0:\n",
    "        img.putpixel((i,mv), color)"
   ]
  },
  {
   "cell_type": "code",
   "execution_count": 10,
   "metadata": {},
   "outputs": [],
   "source": [
    "# first generate a random number from the variations list, change pixels that hopefully looks like a star\n",
    "def putAStar(i,j,img):\n",
    "    var = random.choice(starsVariation)\n",
    "    if var == 0:\n",
    "        img.putpixel((i,j), white)\n",
    "    if var == 1:\n",
    "        img.putpixel((i,j), purple)\n",
    "    if var == 2:\n",
    "        img.putpixel((i,j), purple)\n",
    "        paintSur(1,i,j,dpurple,img)\n",
    "    if var == 3:\n",
    "        img.putpixel((i,j), white)\n",
    "        paintSur(1,i,j,purple,img)\n",
    "        paintSur(2,i,j,purple,img)\n",
    "    if var == 4:\n",
    "        img.putpixel((i,j), purple)\n",
    "        paintSur(1,i,j,dpurple,img)\n",
    "        paintSur(2,i,j,dpurple,img)\n",
    "    if var == 5:\n",
    "        img.putpixel((i,j), white)\n",
    "        paintSur(1,i,j,dpurple,img)\n",
    "        paintSur(2,i,j,dpurple,img)\n",
    "    if var == 6:\n",
    "        img.putpixel((i,j), white)\n",
    "        paintSur(1,i,j,white,img)\n",
    "        paintSur(2,i,j,purple,img)\n",
    "        paintSur(3,i,j,purple,img)\n",
    "        paintSur(5,i,j,dpurple,img)"
   ]
  },
  {
   "cell_type": "code",
   "execution_count": 11,
   "metadata": {},
   "outputs": [],
   "source": [
    "# used to create a plain background, but replaced with patterned background which I've drawn in PS. Mby you can generate the pattern of the BG too.\n",
    "# img  = Image.new( mode = \"RGB\", size = (width, height), color = (19,43,66) )"
   ]
  },
  {
   "cell_type": "code",
   "execution_count": 59,
   "metadata": {},
   "outputs": [],
   "source": [
    "# opened my pre created BG picture, then painting the random stars on top of it\n",
    "with Image.open(\"bg.png\") as im:\n",
    "    pos = 0;\n",
    "    for i in range(im.size[0]): # for every pixel:\n",
    "        for j in range(im.size[1]):\n",
    "            if pos in starPos:\n",
    "                putAStar(i,j,im)\n",
    "            pos+=1\n",
    "#     saving the resulting image\n",
    "    im.save('profile1.png')"
   ]
  },
  {
   "cell_type": "markdown",
   "metadata": {},
   "source": [
    "had to resize the image so that it looks good on FB"
   ]
  },
  {
   "cell_type": "code",
   "execution_count": 19,
   "metadata": {},
   "outputs": [],
   "source": [
    "with Image.open(\"profile1.png\") as im:\n",
    "    basewidth = 80*8\n",
    "    hsize = basewidth\n",
    "    im = im.resize((basewidth,hsize), resample=Image.NEAREST)\n",
    "    im.save('profile2.png')"
   ]
  },
  {
   "cell_type": "code",
   "execution_count": null,
   "metadata": {},
   "outputs": [],
   "source": []
  }
 ],
 "metadata": {
  "kernelspec": {
   "display_name": "Python 3",
   "language": "python",
   "name": "python3"
  },
  "language_info": {
   "codemirror_mode": {
    "name": "ipython",
    "version": 3
   },
   "file_extension": ".py",
   "mimetype": "text/x-python",
   "name": "python",
   "nbconvert_exporter": "python",
   "pygments_lexer": "ipython3",
   "version": "3.8.5"
  }
 },
 "nbformat": 4,
 "nbformat_minor": 4
}
